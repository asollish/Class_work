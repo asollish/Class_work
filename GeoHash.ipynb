{
 "cells": [
  {
   "cell_type": "markdown",
   "metadata": {},
   "source": [
    "Author: Andy Sollish\n",
    "\n",
    "Date: November 8 2017\n",
    "\n",
    "Platform: Python 3 (Windows 10)\n",
    "\n",
    "Class: OA3802\n",
    "\n",
    "Assignment: GeoHash Lab 5"
   ]
  },
  {
   "cell_type": "code",
   "execution_count": 44,
   "metadata": {
    "collapsed": true
   },
   "outputs": [],
   "source": [
    "import gdelt \n",
    "import geopandas as pd\n",
    "import pandas as p\n",
    "import pygeohash as pgh\n",
    "from haversine import haversine\n",
    "from collections import Counter\n",
    "import folium\n",
    "import json"
   ]
  },
  {
   "cell_type": "code",
   "execution_count": 16,
   "metadata": {
    "collapsed": true
   },
   "outputs": [],
   "source": [
    "gd = gdelt.gdelt(version=2)"
   ]
  },
  {
   "cell_type": "markdown",
   "metadata": {},
   "source": [
    "# Task 0\n",
    "\n",
    "write a function that, when given a date (i.e. the current date), pulls down the last 30 days of the GDELT Event data table into an appropriate data structure (dataframe or geodataframe recommended but not required). Apply your function to dowload all events in the 30 days prior to 31 October (i.e. 1 to 30 October) and use that file to demonstrate your subsequent methods.*"
   ]
  },
  {
   "cell_type": "markdown",
   "metadata": {},
   "source": [
    "The 'events' function is an implimentation to pull down information from the GDELT api and store the results in a Pandas dataframe. "
   ]
  },
  {
   "cell_type": "code",
   "execution_count": 17,
   "metadata": {
    "collapsed": true
   },
   "outputs": [],
   "source": [
    "def events(begin_date, end_date):\n",
    "    ''' Input: two dates, a start date and an end date (inclusive). \n",
    "        Output: a dataframe of event info for the date range. \n",
    "        * dates must be in string form, '2017 December 25'.'''\n",
    "    \n",
    "    df = gd.Search(date=[begin_date, end_date], \n",
    "                   table='events', normcols=True, coverage=False)\n",
    "        \n",
    "    return df"
   ]
  },
  {
   "cell_type": "code",
   "execution_count": 18,
   "metadata": {},
   "outputs": [
    {
     "name": "stderr",
     "output_type": "stream",
     "text": [
      "/home/rstudio/.local/lib/python3.5/site-packages/gdelt/parallel.py:69: UserWarning: GDELT does not have a url for date time 20171001234500\n",
      "  warnings.warn(message)\n",
      "/home/rstudio/.local/lib/python3.5/site-packages/gdelt/parallel.py:105: UserWarning: GDELT did not return data for date time 20171001234500\n",
      "  warnings.warn(message)\n",
      "/home/rstudio/.local/lib/python3.5/site-packages/gdelt/parallel.py:69: UserWarning: GDELT does not have a url for date time 20171030234500\n",
      "  warnings.warn(message)\n",
      "/home/rstudio/.local/lib/python3.5/site-packages/gdelt/parallel.py:105: UserWarning: GDELT did not return data for date time 20171030234500\n",
      "  warnings.warn(message)\n"
     ]
    }
   ],
   "source": [
    "df1 = events('2017 October 1', '2017 October 30')"
   ]
  },
  {
   "cell_type": "markdown",
   "metadata": {},
   "source": [
    "# Task 1\n",
    "\n",
    "Write a function that takes as input a location x in Lat/Long, a distance y in kilometers, and a list of event codes z and returns a data structure containing only the events within y (great-circle) distance of point x of type z.\n",
    "\n",
    "Provide a nicely formatted list of the 10 closest incidents when x - (15.05, 1.82), y = 300, and z = [13, 14, 18, 19, 20]. This should just be a very short summary of the events to demonstrate that the approach works."
   ]
  },
  {
   "cell_type": "markdown",
   "metadata": {},
   "source": [
    "'close_events' takes in a dataframe and set of parameters and finds all events in the dataframe that occurred inside the provided distance threshold.  The function makes use of the haversine formula to determine if the event in the dataframe was inside the distance threshold or the location of interest."
   ]
  },
  {
   "cell_type": "code",
   "execution_count": 19,
   "metadata": {
    "collapsed": true
   },
   "outputs": [],
   "source": [
    "def close_events(DF, location, distance, event_type):\n",
    "    ''' Input: latitude, longitude in form (15.05, 1.82), distance from lat / long in km, and a list of event codes\n",
    "               in form [13, 14, 18, 19, 20]. \n",
    "        Output: a dataframe of events that satisfy the criteria. '''\n",
    "    \n",
    "    new_df = DF[DF['eventcode'].isin(event_type)]                           # create a smaller DF first by extracting\n",
    "                                                                            # only events of interest\n",
    "    loc2 = location\n",
    "    lats = set()                                                            # use sets to filter duplicate locations\n",
    "    longs = set()\n",
    "    for lat, long in zip(new_df.actiongeolat, new_df.actiongeolong):        # iterate through our smaller DF\n",
    "        loc1 = (lat, long)\n",
    "        if haversine(loc1, loc2) < distance:                                # check if dist within given threshold\n",
    "            lats.add(lat)                                                   # saved locations used below\n",
    "            longs.add(long)\n",
    "            \n",
    "    final_df = new_df[(new_df['actiongeolat'].isin(list(lats))) &           # create our final DF will all filter\n",
    "                     (new_df['actiongeolong'].isin(list(longs)))]           # criteria applied\n",
    "    \n",
    "    return final_df"
   ]
  },
  {
   "cell_type": "markdown",
   "metadata": {},
   "source": [
    "Call the 'close_events' function that makes use of the haversine formula and time the results."
   ]
  },
  {
   "cell_type": "code",
   "execution_count": 20,
   "metadata": {},
   "outputs": [
    {
     "name": "stdout",
     "output_type": "stream",
     "text": [
      "CPU times: user 36 ms, sys: 16 ms, total: 52 ms\n",
      "Wall time: 57.8 ms\n"
     ]
    }
   ],
   "source": [
    "%time DF2 = close_events(df1, (15.05, 1.82), 300, ['013', '014', '018', '019', '020'])\n",
    "#print(DF2['sourceurl'])"
   ]
  },
  {
   "cell_type": "markdown",
   "metadata": {
    "collapsed": true
   },
   "source": [
    "# Task 2\n",
    "\n",
    "Implement a geohash approach to the task above. Write a function that takes as input a location x in Lat/Long, a distance y in kilometers, and a list of event codes z and returns a data structure containing all events of type z within the minimum geohash bounding box that includes distance y from point x.\n",
    "\n",
    "Provide a nicely formatted (i.e. easy for the instructor to read) list of the 10 closest incidents when x = (15.05, 1.82), y = 300, and z = [13, 14, 18, 19, 20]. This should just be a very short summary of the events to demonstrate that the approach works."
   ]
  },
  {
   "cell_type": "markdown",
   "metadata": {},
   "source": [
    "'geohash_column' is used to create a new column added to our dataframe that includes the geohash for each of the locations in the dataframe."
   ]
  },
  {
   "cell_type": "code",
   "execution_count": 21,
   "metadata": {
    "collapsed": true
   },
   "outputs": [],
   "source": [
    "def geohash_column(DF):\n",
    "    ''' add a new column to a dataframe that is made up of geohashes.\n",
    "    Input: a dataframe that includes latitudes and longitudes.\n",
    "    Ouput: a dataframe with a new column that includes geohashes.'''\n",
    "    \n",
    "    temp_list = []\n",
    "    for lat, long in zip(DF.actiongeolat, DF.actiongeolong):        # iterate through our input DF\n",
    "        gh = pgh.encode(lat, long)                                  # creates a geohash string\n",
    "        temp_list.append(gh)\n",
    "    new_ser = p.Series(temp_list)                                   # converts list to series\n",
    "    DF['geohash'] = new_ser                                         # add new column (series) to dataframe\n",
    "    \n",
    "    return DF"
   ]
  },
  {
   "cell_type": "markdown",
   "metadata": {},
   "source": [
    "'closeGeoEvents' is the geohash implimentation of finding events that are close to our location of interest."
   ]
  },
  {
   "cell_type": "code",
   "execution_count": 26,
   "metadata": {
    "collapsed": true
   },
   "outputs": [],
   "source": [
    "def closeGeoEvents(DF, location, distance, eventCodes):\n",
    "    ''' works the same as 'close_events' function but does so comparing geohashes rather than lat / longs. \n",
    "    Input: latitude, longitude in form (15.05, 1.82), distance from lat / long in km, and a list of event codes\n",
    "           in form [13, 14, 18, 19, 20]. \n",
    "    Output: a dataframe of events that satisfy the criteria. '''\n",
    "    \n",
    "    new_df = DF[DF['eventcode'].isin(eventCodes)]                       # create a smaller DF first by creating new\n",
    "                                                                        # dataframe with only event types of interest\n",
    "    distance = distance * 3280.84                                       # convert kilometers to feet\n",
    "    geoSet = set()\n",
    "    lat = location[0]\n",
    "    long = location[1]\n",
    "    loc1 = pgh.encode(lat, long)                                        # convert area of interest to a geohash\n",
    "    \n",
    "    for loc2 in new_df['geohash']:                                      # loc2 is a geohash string\n",
    "        diff = pgh.geohash_approximate_distance(loc1, loc2)\n",
    "        if  diff < distance:                                            # find distance between two geohashes\n",
    "            geoSet.add(loc2)        \n",
    "    \n",
    "    final_df = new_df[(new_df['geohash'].isin(list(geoSet)))]           # create new dataframe with results                  \n",
    "    \n",
    "    return final_df"
   ]
  },
  {
   "cell_type": "markdown",
   "metadata": {},
   "source": [
    "The function below takes a dataframe previously computed via 'close_events' or 'closeGeoEvents' and runs the results through a haversine distance check to make sure results fall within the distance threshold.  It also sorts the results in order of closest events and prints only the top 10 closest."
   ]
  },
  {
   "cell_type": "code",
   "execution_count": 23,
   "metadata": {
    "collapsed": true
   },
   "outputs": [],
   "source": [
    "def extractorSorter(DF, location, distance):\n",
    "    ''' pull out only the desired info from a dataframe, then sort it.\n",
    "    Input: a dataframe, location of interest, and a distance threshold.\n",
    "    Ouput: a sorted list with select attributes.'''\n",
    "\n",
    "    attributes = {}\n",
    "    for lat, long, code, url, ID in zip(DF.actiongeolat, DF.actiongeolong, \n",
    "                                    DF.eventcode, DF.sourceurl, DF.globaleventid):\n",
    "        loc2 = (lat, long)\n",
    "        dist = haversine(location, loc2)\n",
    "        if dist < distance:\n",
    "            attributes[(ID, lat, long, code, url)] = dist\n",
    "            \n",
    "    order_list = [key for (key, value) in sorted(attributes.items(), reverse=False)]\n",
    "            \n",
    "    for item in order_list[:10]:\n",
    "        ID, lat, long, code, url = item[:]\n",
    "        print('Event ID: {} Lat: {} Long: {} Event Code: {} URL: {}'.format(ID, lat, long, code, url))"
   ]
  },
  {
   "cell_type": "markdown",
   "metadata": {},
   "source": [
    "Using the function 'geohash_column', we create a new dataframe with the new column composed of geohashes for each\n",
    "lat / long. "
   ]
  },
  {
   "cell_type": "code",
   "execution_count": 24,
   "metadata": {
    "collapsed": true
   },
   "outputs": [],
   "source": [
    "DF3 = geohash_column(df1)                                          # call 'geohash_column' to generate a new dataframe\n",
    "#print(DF3['geohash'])                                             # with the added geohash column"
   ]
  },
  {
   "cell_type": "markdown",
   "metadata": {},
   "source": [
    "Next, we call the function 'closeGeoEvents' to find the events that are close to our location of interest. Events are checked using the geohash we previously created rather than the lat / long as we did in Task 1 using 'close_events'.\n",
    "\n",
    "It's important to note that 'closeGeoEvents' will return more than just events that are inside the distance threshold.  It will also return events that are relatively close.  If you then want to only see events within the distance threshold, you must run the results of 'closeGeoEvents' through the function 'extractorSorter.'"
   ]
  },
  {
   "cell_type": "code",
   "execution_count": 27,
   "metadata": {},
   "outputs": [
    {
     "name": "stdout",
     "output_type": "stream",
     "text": [
      "CPU times: user 8 ms, sys: 4 ms, total: 12 ms\n",
      "Wall time: 14.3 ms\n"
     ]
    }
   ],
   "source": [
    "%time DF4 = closeGeoEvents(DF3, (15.05, 1.82), 300, ['013', '014', '018', '019', '020'])"
   ]
  },
  {
   "cell_type": "markdown",
   "metadata": {},
   "source": [
    "## Displayed Results\n",
    "\n",
    "We call the 'extractorSorter' function **twice**, once on our results using the haversine method and the second time using our geohash method.  The results are the same. The only thing that is different in the function call is the dataframe we pass.\n",
    "\n",
    "The 'extractorSorter' makes use of haversine, which is redundant in the case of passing our first dataframe, because we already calculated the haversine distances.  The function was created to be an abstraction, so that regardless of which method you used previously, you could pass the same parameters and get the same result displayed."
   ]
  },
  {
   "cell_type": "code",
   "execution_count": 98,
   "metadata": {},
   "outputs": [
    {
     "name": "stdout",
     "output_type": "stream",
     "text": [
      "Event ID: 700438321 Lat: 15.0522 Long: 1.8318 Event Code: 013 URL: http://www.tbo.com/ap/national/us-general-lays-out-niger-attack-details-questions-remain-ap_nationalb298bf48455b4f38ba029bf165060897\n",
      "Event ID: 700438365 Lat: 13.5167 Long: 2.11667 Event Code: 020 URL: http://dailycaller.com/2017/10/23/dunford-reveals-new-details-on-fatal-niger-ambush/\n",
      "Event ID: 700438370 Lat: 13.5167 Long: 2.11667 Event Code: 020 URL: http://dailycaller.com/2017/10/23/dunford-reveals-new-details-on-fatal-niger-ambush/\n"
     ]
    }
   ],
   "source": [
    "extractorSorter(DF2, (15.05, 1.82), 300)"
   ]
  },
  {
   "cell_type": "code",
   "execution_count": 97,
   "metadata": {},
   "outputs": [
    {
     "name": "stdout",
     "output_type": "stream",
     "text": [
      "Event ID: 700438321 Lat: 15.0522 Long: 1.8318 Event Code: 013 URL: http://www.tbo.com/ap/national/us-general-lays-out-niger-attack-details-questions-remain-ap_nationalb298bf48455b4f38ba029bf165060897\n",
      "Event ID: 700438365 Lat: 13.5167 Long: 2.11667 Event Code: 020 URL: http://dailycaller.com/2017/10/23/dunford-reveals-new-details-on-fatal-niger-ambush/\n",
      "Event ID: 700438370 Lat: 13.5167 Long: 2.11667 Event Code: 020 URL: http://dailycaller.com/2017/10/23/dunford-reveals-new-details-on-fatal-niger-ambush/\n"
     ]
    }
   ],
   "source": [
    "extractorSorter(DF4, (15.05, 1.82), 300)"
   ]
  },
  {
   "cell_type": "markdown",
   "metadata": {},
   "source": [
    "# Task 3\n",
    "\n",
    "Benchmark the performance (speed/results) of your functions for Great Circle / Euclidean Distance and Geohash when x= (15.05, 1.82), y = 300, and z = [13, 14, 18, 19, 20].\n",
    "\n",
    "Note that building the data structure(s) that stores your data should NOT be included in your speed benchmarking. What matters is the speed of the lookup on query and the results returned. What is good and bad about each approach (compare/contrast)? How can you leverage the strengths of both approaches? Implement an improved approach for the final project and provide a demonstration of its use in Task 4."
   ]
  },
  {
   "cell_type": "markdown",
   "metadata": {},
   "source": [
    "## Discussion on Timing\n",
    "\n",
    "Based on the way the functions were created, comparing the timing of the haversine method and geohash method is not an apples to apples comparison.  In the haversine function we compare lat / longs and throw them into a data structure if they're under our distance threshold, then we have to query for **two** items, latitude and longitude.  In the geohash function, we throw geohashes that are close into a data structure, but then only query for **one** item, the geohash.  This is probably a negligible detail.  What isn't negligible though is that we first created a new column of geohashes.  We had to convert the lat / longs of the dataframe to geohashes and append them to the dataframe.  This is a process that takes some time that the haversine method didn't have to do.  With that being said, the geohash method seems to be quite a bit faster, relatively speaking.  The timeing results appear under the function calls for 'close_events' and 'closeGeoEvents.' At scale, the gap is likely to increase.  \n",
    "\n",
    "One of the bigger time savers though was first making a filterd copy of the original dataframe.  We know we're only interested in certain events, so filtering for those first reduces our searchable dataframe down significantly.  We make many fewer distance comparisons when working with a smaller dataframe.  This task is done in each of the functions, 'close_events,' and 'closeGeoEvents.'\n",
    "\n",
    "The difference in timeing may be neglible and unimportant depending on the task.  But overall, the best solution might be some combination of both as is done in Task 4."
   ]
  },
  {
   "cell_type": "markdown",
   "metadata": {},
   "source": [
    "# Task 4\n",
    "\n",
    "Write a function that returns an interactive map and an interactive report given the inputs specified above. Demonstrate the use of this on a location of your choice (make it interesting), for a distance of 250 KM for event codes [13, 14, 18, 19, 20]."
   ]
  },
  {
   "cell_type": "markdown",
   "metadata": {},
   "source": [
    "**The combination of the Interactive Map and the Interactive Report makes use of both geohash and haversine** by way of calling both 'closeGeoEvents' and 'extractorSorter.'\n",
    "\n",
    "First, the data must be pulled from Gdelt using the 'events' function as we did in Task 0.  The code below is what follows after this initial step.\n",
    "\n",
    "In the below code, we can easily adjust the parameters by changing: loi, dist, and events.  When parameters are set, we call the 'geohash_column' function to add the geohashes to the dataframe.  Once we have the geohash column added, we call 'closeGeoEvents' which finds the events that are near our location of interest by way of geohash.  Once complete we generate our interactive map.\n",
    "\n",
    "## Interactive Map\n",
    "\n",
    "The interactive map displays a marker over our location of interest and a circle around it with it's radius set to our distance threshold.  The other events returned by 'closeGeoEvents' are also depicted with markers.  When you click on a marker it displays the URL for the story on the given event. "
   ]
  },
  {
   "cell_type": "code",
   "execution_count": 71,
   "metadata": {},
   "outputs": [
    {
     "data": {
      "text/html": [
       "<div style=\"width:100%;\"><div style=\"position:relative;width:100%;height:0;padding-bottom:60%;\"><iframe src=\"data:text/html;charset=utf-8;base64,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\" style=\"position:absolute;width:100%;height:100%;left:0;top:0;border:none !important;\" allowfullscreen webkitallowfullscreen mozallowfullscreen></iframe></div></div>"
      ],
      "text/plain": [
       "<folium.folium.Map at 0x7ff96d29bba8>"
      ]
     },
     "execution_count": 71,
     "metadata": {},
     "output_type": "execute_result"
    }
   ],
   "source": [
    "loi = [14.58, 120.98]                                                      # set location of interest\n",
    "dist = 250                                                                 # set distance threshold in kilometers\n",
    "events = ['013', '014', '018', '019', '020']                               # set event codes of interest\n",
    "\n",
    "DF5 = geohash_column(df1)                                                  # create geohash column\n",
    "DF5 = closeGeoEvents(DF5, loi, dist, events)                               # filter for events of interest\n",
    "\n",
    "locationlist = zip(list(DF5['actiongeolat']), list(DF5['actiongeolong']))\n",
    "locationlist = list(locationlist)\n",
    "\n",
    "m = folium.Map(location=loi,zoom_start=7, control_scale=True)             # initialize map \n",
    "\n",
    "# the line below draws a circle around the location of interest with a radius of distance threshold\n",
    "folium.Circle(radius=(dist*1000), location=loi, popup='Starting Location', color='crimson', fill=False).add_to(m)\n",
    "\n",
    "folium.Marker(loi, popup='Start').add_to(m)                               # display location of interest\n",
    "\n",
    "for point in range(0, len(locationlist)):                                 # display each location returned\n",
    "    folium.Marker(locationlist[point], popup=list(DF5['sourceurl'])[point]).add_to(m)\n",
    "\n",
    "m                                                                          # display the map"
   ]
  },
  {
   "cell_type": "markdown",
   "metadata": {},
   "source": [
    "## Interactive Report\n",
    "\n",
    "We call the 'extractorSorter' function to generate a rudimentary report that allows the user to see which of the returned events fall inside the distance threshold, the event ID, location, event code, and an interactive URL that the user can click on to go to the story.\n",
    "\n",
    "As mentioned previously, 'extractorSorter' makes use of the haversine distance formula to further reduce the list of events down to only ones that are within the distance threshold. "
   ]
  },
  {
   "cell_type": "code",
   "execution_count": 66,
   "metadata": {},
   "outputs": [
    {
     "name": "stdout",
     "output_type": "stream",
     "text": [
      "Event ID: 694582027 Lat: 15.8334 Long: 120.37799999999999 Event Code: 020 URL: http://newsinfo.inquirer.net/935103/cops-in-drug-slays-seek-church-protection\n",
      "Event ID: 694583543 Lat: 15.8334 Long: 120.37799999999999 Event Code: 020 URL: http://newsinfo.inquirer.net/935103/cops-in-drug-slays-seek-church-protection\n",
      "Event ID: 696468129 Lat: 13.0 Long: 122.0 Event Code: 013 URL: http://newsinfo.inquirer.net/936798/sereno-pins-hopes-on-support-of-people-in-impeachment-case\n",
      "Event ID: 696468159 Lat: 13.0 Long: 122.0 Event Code: 013 URL: http://newsinfo.inquirer.net/936798/sereno-pins-hopes-on-support-of-people-in-impeachment-case\n",
      "Event ID: 697423975 Lat: 13.0 Long: 122.0 Event Code: 020 URL: http://www.tbo.com/news/things-to-know-in-the-world-for-oct-13/2340924\n",
      "Event ID: 697741139 Lat: 15.8334 Long: 120.37799999999999 Event Code: 013 URL: http://newsinfo.inquirer.net/937810/philippine-news-updates-president-duterte-war-on-drugs-philippine-drug-enforcement-agency\n",
      "Event ID: 697741146 Lat: 15.8334 Long: 120.37799999999999 Event Code: 020 URL: https://news.mb.com.ph/2017/10/14/duterte-withdraws-eu-expelthreat/\n",
      "Event ID: 697741147 Lat: 14.6042 Long: 120.98200000000001 Event Code: 020 URL: https://news.mb.com.ph/2017/10/14/duterte-withdraws-eu-expelthreat/\n",
      "Event ID: 697741163 Lat: 15.0193 Long: 120.705 Event Code: 020 URL: http://newsinfo.inquirer.net/937810/philippine-news-updates-president-duterte-war-on-drugs-philippine-drug-enforcement-agency\n",
      "Event ID: 697741165 Lat: 16.45 Long: 120.55 Event Code: 020 URL: http://newsinfo.inquirer.net/937810/philippine-news-updates-president-duterte-war-on-drugs-philippine-drug-enforcement-agency\n"
     ]
    }
   ],
   "source": [
    "extractorSorter(DF5, loi, 250)"
   ]
  }
 ],
 "metadata": {
  "kernelspec": {
   "display_name": "Python 3",
   "language": "python",
   "name": "python3"
  },
  "language_info": {
   "codemirror_mode": {
    "name": "ipython",
    "version": 3
   },
   "file_extension": ".py",
   "mimetype": "text/x-python",
   "name": "python",
   "nbconvert_exporter": "python",
   "pygments_lexer": "ipython3",
   "version": "3.5.2"
  }
 },
 "nbformat": 4,
 "nbformat_minor": 2
}
